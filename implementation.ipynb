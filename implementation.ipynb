{
 "cells": [
  {
   "cell_type": "markdown",
   "metadata": {},
   "source": [
    "# Robust detrending, rereferencing, outlier detection, and inpainting, for-multichannel-data"
   ]
  },
  {
   "cell_type": "markdown",
   "metadata": {},
   "source": [
    "Implementation of [1] in Python and experiments on real time series.  \n",
    "Esteban Christiann (ENS Paris-Saclay) and Alexi Canesse (ENS de Lyon)"
   ]
  },
  {
   "cell_type": "markdown",
   "metadata": {},
   "source": [
    "### Libraries Importation"
   ]
  },
  {
   "cell_type": "code",
   "execution_count": null,
   "metadata": {},
   "outputs": [],
   "source": [
    "import numpy as np\n",
    "import utils\n",
    "import matplotlib.pyplot as plt\n",
    "from scipy.signal import butter, lfilter\n",
    "from meegkit.utils.sig import stmcb # Steiglitz-McBride iteration method for ringing removal"
   ]
  },
  {
   "cell_type": "markdown",
   "metadata": {},
   "source": [
    "### Data loading\n",
    "Load MEG data extracted from [2] (See the end of the notebook for the data extraction)"
   ]
  },
  {
   "cell_type": "code",
   "execution_count": null,
   "metadata": {},
   "outputs": [],
   "source": [
    "meg_data = np.load(\"data/MEG.npy\")\n",
    "meg_data_16 = np.load(\"data/MEG_16.npy\")\n",
    "print(meg_data.shape)\n",
    "print(meg_data_16.shape)"
   ]
  },
  {
   "cell_type": "markdown",
   "metadata": {},
   "source": [
    "### Data Generation"
   ]
  },
  {
   "cell_type": "code",
   "execution_count": null,
   "metadata": {},
   "outputs": [],
   "source": [
    "num_points = 300\n",
    "t, x1, _ = utils.generate_noisy_polynomial(degree=10, noise_level=0.1, num_points=num_points)\n",
    "_, x2, _ = utils.generate_noisy_polynomial(degree=10, noise_level=0.1, num_points=num_points)\n",
    "x3 = x1 + x2 + np.random.normal(scale=0.1, size=[num_points])\n",
    "x = np.stack([x1, x2, x3], axis=1)\n",
    "x_not_corrupted = x.copy()\n",
    "\n",
    "w = np.ones([num_points, 3], dtype=bool)\n",
    "w[50:75, 0] = False\n",
    "w[100:150, 1] = False\n",
    "w[200:220, 2] = False\n",
    "\n",
    "x[~w] = 10\n",
    "\n",
    "utils.plot_signals_side_by_side(t, x.T, x_not_corrupted.T, y_names1=[\"x1\", \"x2\", \"x3\"], y_names2=[\"x1\", \"x2\", \"x3\"], title1=\"Corruped signal\", title2=\"Not corrupted signal\")\n",
    "\n",
    "# Data with steps \n",
    "sigma = 1e-1\n",
    "x_step = np.random.randn(3, num_points) * sigma\n",
    "# Add steps\n",
    "for signal in x_step:\n",
    "    step_locations = utils.generate_random_numbers(np.random.randint(3, 10), 10, num_points - 9, 15)\n",
    "    for step_location in step_locations:\n",
    "        signal[step_location:] += 1. + np.random.random()\n",
    "utils.plot_signals(t, x_step, title=\"\")"
   ]
  },
  {
   "cell_type": "markdown",
   "metadata": {},
   "source": [
    "## 1. Robust detrending"
   ]
  },
  {
   "cell_type": "code",
   "execution_count": null,
   "metadata": {},
   "outputs": [],
   "source": [
    "def robust_detrend(x, order, w=None, basis='polynomials', thresh=0.5, maxiter=20):\n",
    "     \"\"\"\n",
    "     Robustly removes trend from data.\n",
    "\n",
    "     Parameters:\n",
    "     - x: raw data\n",
    "     - order: order of polynomial or number of sin/cosine pairs\n",
    "     - w: weights\n",
    "     - basis: 'polynomials' [default] or 'sinusoids', or user-provided matrix\n",
    "     - thresh: threshold for outliers [default: .5 sd]\n",
    "     - maxiter: number of iterations [default: 20]\n",
    "\n",
    "     Returns:\n",
    "     - original - trend: detrended data\n",
    "     - trend: trend\n",
    "     - w: updated weights\n",
    "     - r: basis matrix used\n",
    "     \"\"\"\n",
    "     # Generate basis matrix\n",
    "     if isinstance(basis, np.ndarray):\n",
    "          r = basis\n",
    "     else:\n",
    "          lin = np.linspace(-1, 1, x.shape[0])\n",
    "          if basis == 'polynomials':\n",
    "               r = np.column_stack([lin ** k for k in range(0, order + 1)])\n",
    "          elif basis == 'sinusoids':\n",
    "               r = np.column_stack([np.sin(2 * np.pi * k * lin / 2) for k in range(0, order + 1)] +\n",
    "                                   [np.cos(2 * np.pi * k * lin / 2) for k in range(0, order + 1)])\n",
    "          else:\n",
    "               raise ValueError(\"Invalid basis type\")\n",
    "\n",
    "     # Initialize weights if not provided\n",
    "     if w is None:\n",
    "          if len(x.shape) == 1:\n",
    "               w = np.ones_like(x, dtype=bool)[:, np.newaxis]\n",
    "          else:\n",
    "               w = np.ones_like(x, dtype=bool)[:]\n",
    "     \n",
    "     # If the data is multichannel, the algorithm is applied to each channel independently \n",
    "     trend = x.copy()\n",
    "     original = x.copy()\n",
    "     if len(trend.shape) == 1:\n",
    "          trend = trend[:, np.newaxis]\n",
    "          original = original[:, np.newaxis]\n",
    "     for _ in range(maxiter):\n",
    "          # If the data is multichannel, the algorithm is applied to each channel independently \n",
    "          for dim in range(trend.shape[1]):\n",
    "               # Fit to basis\n",
    "               coefficients, _, _, _ = np.linalg.lstsq(r[w[:, dim],:], original[w[:, dim], dim], rcond=None)\n",
    "               trend[:,dim] = r @ coefficients\n",
    "               # Update weights\n",
    "               d = np.abs(trend[:, dim] - original[:, dim])\n",
    "\n",
    "               new_w = d < thresh * np.std(d)\n",
    "               if (new_w == w[:, dim]).all():\n",
    "                    # Algorithm converged, early stopping\n",
    "                    break\n",
    "               w[:, dim] = new_w\n",
    "\n",
    "\n",
    "     return original - trend, trend, w, r"
   ]
  },
  {
   "cell_type": "markdown",
   "metadata": {},
   "source": [
    "### Try the algorithm on our generated data"
   ]
  },
  {
   "cell_type": "code",
   "execution_count": null,
   "metadata": {},
   "outputs": [],
   "source": [
    "detrended_x1, trend_x1, weights_x1, _ = robust_detrend(x[:, 0], 10, thresh=1)\n",
    "utils.plot_signals(t, [x[:, 0], detrended_x1[:, 0], weights_x1, trend_x1], y_names=[\"signal\", \"detrended\", \"weights\", \"fit\"])"
   ]
  },
  {
   "cell_type": "markdown",
   "metadata": {},
   "source": [
    "### Try the algorithm on real MEG data"
   ]
  },
  {
   "cell_type": "code",
   "execution_count": null,
   "metadata": {},
   "outputs": [],
   "source": [
    "detrended_meg, trend_meg, _, _ = robust_detrend(meg_data[:, 4], 10, thresh=1)\n",
    "utils.plot_signals_side_by_side(np.arange(meg_data[:, 4].shape[0]), [meg_data[:, 4], trend_meg], [detrended_meg[:, 0]], y_names1=[\"signal\", \"fit\"], y_names2=[\"detrended\"], alpha1=[.75, .2, 1.], sharey=False)"
   ]
  },
  {
   "cell_type": "code",
   "execution_count": null,
   "metadata": {},
   "outputs": [],
   "source": [
    "detrended_meg, trend_meg, _, _ = robust_detrend(meg_data[:, 0], 10, thresh=1)\n",
    "utils.plot_signals_side_by_side(np.arange(meg_data[:, 0].shape[0]), [meg_data[:, 0], trend_meg], [detrended_meg[:, 0]], y_names1=[\"signal\", \"fit\"], y_names2=[\"detrended\"], alpha1=[.75, .2, 1.], sharey=False)"
   ]
  },
  {
   "cell_type": "markdown",
   "metadata": {},
   "source": [
    "## 2. Inpainting"
   ]
  },
  {
   "cell_type": "code",
   "execution_count": null,
   "metadata": {},
   "outputs": [],
   "source": [
    "def inpaint(x, w, keep_valid=True):\n",
    "    \"\"\"\n",
    "    Reconstruct data if corrupted samples are known\n",
    "\n",
    "    Parameters:\n",
    "    - x: Nchannels x Nsamples raw data\n",
    "    - w: Nchannels x Nsamples bool matrix indicating corruptions\n",
    "    - keep_valid: set to true to reconstruct only corrupted samples\n",
    "\n",
    "    Returns:\n",
    "    - new_x: reconstructed data\n",
    "    \"\"\"\n",
    "    if w is None:\n",
    "        w = np.ones_like(x, dtype=bool)\n",
    "\n",
    "    N = x.shape[1] # Number of channels\n",
    "    new_x = x.copy()\n",
    "\n",
    "    for n in range(N):\n",
    "        w_other = w.copy()\n",
    "        w_other[:, n] = False\n",
    "\n",
    "        # Partition the time axis using the state of other channels\n",
    "        pattern, partition = np.unique(w_other, axis=0, return_inverse=True)\n",
    "        K = pattern.shape[0]\n",
    "\n",
    "        for k in range(K):\n",
    "            T_k = partition == k\n",
    "            Tprime_k = np.logical_and(w[:, n], T_k) # Timestamps we use to estimate the projection\n",
    "            \n",
    "            Tinpaint = np.logical_and(~w[:, n], T_k) # Timestamps to reconstruct\n",
    "            if not keep_valid:\n",
    "                Tinpaint = T_k\n",
    "\n",
    "            if Tinpaint.any():\n",
    "                xn = x[:, n]\n",
    "                xother = x[:, pattern[k]]\n",
    "                xother = np.concatenate([xother, np.ones_like(xn)[:, None]], axis=1)\n",
    "\n",
    "                # Estimate the coefficients and reconstuct the data\n",
    "                coefs = np.linalg.lstsq(xother[Tprime_k], xn[Tprime_k], rcond=None)[0]\n",
    "                new_x[Tinpaint, n] = xother[Tinpaint] @ coefs\n",
    "\n",
    "    return new_x"
   ]
  },
  {
   "cell_type": "code",
   "execution_count": null,
   "metadata": {},
   "outputs": [],
   "source": [
    "x_inpaint = inpaint(x, w)\n",
    "\n",
    "utils.plot_signals_side_by_side(t, x_inpaint.T, x.T, title1=\"Inpainted\", title2=\"Original\")\n",
    "\n",
    "to_plot = np.concatenate([x_inpaint, x_inpaint[:, [0]] + x_inpaint[:, [1]]], axis=1)\n",
    "utils.plot_signals_side_by_side(t, to_plot.T, [x_inpaint[:, 0] + x_inpaint[:, 1] - x_not_corrupted[:,2], x[:,2]], y_names1=[\"x1\", \"x2\", \"x3\", \"x1 + x2\"], y_names2=[\"Difference between not corrupted and reconstructed\", \"Corrupted\"], title1=\"Reconstruction of x3 using inpainted signals\", title2=\"Reconstruction of x3 using inpainted signals\")"
   ]
  },
  {
   "cell_type": "markdown",
   "metadata": {},
   "source": [
    "## 3. Outlier Detection"
   ]
  },
  {
   "cell_type": "code",
   "execution_count": null,
   "metadata": {},
   "outputs": [],
   "source": [
    "def outlier_detection(x, thres=2., maxiter=20):\n",
    "    \"\"\"\n",
    "    Flag outliers using the inpaint algorithm\n",
    "\n",
    "    Parameters:\n",
    "    - x: Nchannels x Nsamples raw data\n",
    "    - thres: threshold for outlier detection (default: 2 stddev)\n",
    "    - maxiter: maximum number of iterations\n",
    "\n",
    "    Returns:\n",
    "    - w: Nchannels x Nsamples bool matrix where False indicates an outlier\n",
    "    \"\"\"\n",
    "    w = np.ones_like(x, dtype=bool) # Initially assume there are no outliers\n",
    "\n",
    "    for _ in range(maxiter):\n",
    "        # Try to reconstruct the data using the inpainting algorithm\n",
    "        xbar = inpaint(x, w, keep_valid=False)\n",
    "\n",
    "        # Flag high reconstruction errors as outliers\n",
    "        d = np.abs(x - xbar)\n",
    "        new_w = ~(d > thres * d.std(axis=0, keepdims=True))\n",
    "        \n",
    "        # Early stopping if the algorithm has converged\n",
    "        if (w == new_w).all():\n",
    "            return w\n",
    "        w = new_w\n",
    "    \n",
    "    return w"
   ]
  },
  {
   "cell_type": "code",
   "execution_count": null,
   "metadata": {},
   "outputs": [],
   "source": [
    "estimated_w = outlier_detection(x)\n",
    "utils.plot_signals_side_by_side(t, x.T, estimated_w.T, title1=\"Signal\", title2=\"estimated weights\")"
   ]
  },
  {
   "cell_type": "markdown",
   "metadata": {},
   "source": [
    "## 4. Robust Rereferencing"
   ]
  },
  {
   "cell_type": "code",
   "execution_count": null,
   "metadata": {},
   "outputs": [],
   "source": [
    "def robust_rereferencing(x, w=None):\n",
    "    \"\"\"\n",
    "    Perform robust referencing on the input signal.\n",
    "\n",
    "    Parameters:\n",
    "    - x (numpy.ndarray): Input signal.\n",
    "    - w (numpy.ndarray): Weights from outlier detection.\n",
    "\n",
    "    Returns:\n",
    "    - numpy.ndarray: Robustly referenced signal.\n",
    "    \"\"\"\n",
    "    if w is None:\n",
    "        w = outlier_detection(x)\n",
    "    robust_mean = np.mean(x, where=w)\n",
    "    return x - robust_mean"
   ]
  },
  {
   "cell_type": "markdown",
   "metadata": {},
   "source": [
    "### Trying it on our generated data"
   ]
  },
  {
   "cell_type": "code",
   "execution_count": null,
   "metadata": {},
   "outputs": [],
   "source": [
    "rereferenced_x = robust_rereferencing(x)\n",
    "utils.plot_signals_side_by_side(t, rereferenced_x.T, rereferenced_x.T - (x_not_corrupted.T - np.mean(x_not_corrupted)), title1=\"Rereferenced\", title2=\"Difference with non corrupted rereferenced\")"
   ]
  },
  {
   "cell_type": "markdown",
   "metadata": {},
   "source": [
    "## 5. Step Removal"
   ]
  },
  {
   "cell_type": "code",
   "execution_count": null,
   "metadata": {},
   "outputs": [],
   "source": [
    "def find_steps(x, thresh, guard, depth):\n",
    "    \"\"\"\n",
    "    Find step glitch\n",
    "\n",
    "    Parameters:\n",
    "    - x (numpy.ndarray): Data to clean.\n",
    "    - thresh (float): Threshold\n",
    "    - guard (int): Minimum duration of stable interval in samples .\n",
    "    - depth (int): Recursion depth, determines the number of steps.\n",
    "\n",
    "    Returns:\n",
    "    - stepList (list): Indices of steps.\n",
    "    \"\"\"\n",
    "    if depth == 0 or x.shape[0] <= 2 * guard:\n",
    "        return []\n",
    "\n",
    "    T = x.shape[0] # x is a single channel here\n",
    "\n",
    "    M0 = np.cumsum(x) / np.arange(1, T+1)\n",
    "    V0 = np.cumsum(np.square(x)) / np.arange(1, T+1)\n",
    "    V0 -= np.square(M0)\n",
    "    V0 *= np.arange(1, T+1)\n",
    "\n",
    "    MT = np.cumsum(x[::-1]) / np.arange(1, T+1)\n",
    "    VT = np.cumsum(np.square(x[::-1])) / np.arange(1, T+1)\n",
    "    VT -= np.square(MT)\n",
    "    VT *= np.arange(1, T+1)\n",
    "    VT = VT[::-1]\n",
    "    \n",
    "    t0 = np.argmin((V0 + VT)[guard : T-guard])\n",
    "    steps = [guard + t0]\n",
    "    \n",
    "    # Check if the step is relevent \n",
    "    if (V0[t0] + VT[t0]) / V0[-1] > thresh:\n",
    "        return []\n",
    "\n",
    "    if depth and steps:\n",
    "        steps_left = find_steps(x[:steps[0]], thresh=thresh, guard=guard, depth=depth-1)\n",
    "        # Add an offset because x[steps[0] + 1] becomes index 0\n",
    "        steps_right = steps[0] + find_steps(x[steps[0]+1:], thresh=thresh, guard=guard, depth=depth-1)\n",
    "        steps = np.concatenate((steps_left, steps, steps_right))\n",
    "\n",
    "    return steps.astype(int)\n",
    "\n",
    "def step_removal(x, thresh=0.7, guard=5, depth=5):\n",
    "    \"\"\"\n",
    "    Remove step glitch\n",
    "    \n",
    "    Parameters:\n",
    "    - x (numpy.ndarray): Data to clean (time * channels).\n",
    "    - thresh (float): Threshold (default: 0.7).\n",
    "    - guard (int): Minimum duration of stable interval in samples (default: 5).\n",
    "    - depth (int): Recursion depth (default: 5), determines the number of steps.\n",
    "\n",
    "    Returns:\n",
    "    - y (numpy.ndarray): Step-removed data.\n",
    "    - stepList (list): Indices of steps.\n",
    "    \"\"\"\n",
    "\n",
    "    y = x.copy()\n",
    "\n",
    "    all_stepList = []\n",
    "    for chan in range(x.shape[1]):\n",
    "        # Find step indices\n",
    "        stepList = find_steps(x[:, chan], thresh=thresh, guard=guard, depth=depth)\n",
    "\n",
    "        all_stepList.append(stepList)\n",
    "\n",
    "        if len(stepList):\n",
    "            stepList = [0] + list(stepList) + [x.shape[0]]\n",
    "            for split in range(1, len(stepList) - 1):\n",
    "                y1 = y[stepList[split - 1] + 1 : stepList[split] - 1, chan]  # plateau before\n",
    "                y2 = y[stepList[split] + 1 : stepList[split + 1] - 1, chan]  # plateau after\n",
    "                step = np.mean(y2) - np.mean(y1)\n",
    "                y[stepList[split] + 1:, chan] -= step\n",
    "\n",
    "    return y, np.array(all_stepList, dtype=object)"
   ]
  },
  {
   "cell_type": "code",
   "execution_count": null,
   "metadata": {},
   "outputs": [],
   "source": [
    "x_step_removed, stepList = step_removal(x_step[[1]].T, thresh=0.7)\n",
    "utils.plot_signals(t, [x_step[[1]].T, x_step_removed], y_names=[\"Step signal\", \"de-stepped signal\"], y_lines=[t[step] for steps in stepList for step in steps])"
   ]
  },
  {
   "cell_type": "code",
   "execution_count": 217,
   "metadata": {},
   "outputs": [
    {
     "ename": "KeyboardInterrupt",
     "evalue": "",
     "output_type": "error",
     "traceback": [
      "\u001b[0;31m---------------------------------------------------------------------------\u001b[0m",
      "\u001b[0;31mKeyboardInterrupt\u001b[0m                         Traceback (most recent call last)",
      "Cell \u001b[0;32mIn[217], line 2\u001b[0m\n\u001b[1;32m      1\u001b[0m meg3_step_removed, stepList \u001b[38;5;241m=\u001b[39m step_removal(meg_data[:, [\u001b[38;5;241m3\u001b[39m]])\n\u001b[0;32m----> 2\u001b[0m \u001b[43mutils\u001b[49m\u001b[38;5;241;43m.\u001b[39;49m\u001b[43mplot_signals_side_by_side\u001b[49m\u001b[43m(\u001b[49m\u001b[38;5;28;43mrange\u001b[39;49m\u001b[43m(\u001b[49m\u001b[43mmeg_data\u001b[49m\u001b[38;5;241;43m.\u001b[39;49m\u001b[43mshape\u001b[49m\u001b[43m[\u001b[49m\u001b[38;5;241;43m0\u001b[39;49m\u001b[43m]\u001b[49m\u001b[43m)\u001b[49m\u001b[43m,\u001b[49m\u001b[43m \u001b[49m\u001b[43my1\u001b[49m\u001b[38;5;241;43m=\u001b[39;49m\u001b[43m[\u001b[49m\u001b[43mmeg_data\u001b[49m\u001b[43m[\u001b[49m\u001b[43m:\u001b[49m\u001b[43m,\u001b[49m\u001b[43m \u001b[49m\u001b[43m[\u001b[49m\u001b[38;5;241;43m3\u001b[39;49m\u001b[43m]\u001b[49m\u001b[43m]\u001b[49m\u001b[43m,\u001b[49m\u001b[43m \u001b[49m\u001b[43mmeg3_step_removed\u001b[49m\u001b[43m]\u001b[49m\u001b[43m,\u001b[49m\u001b[43m \u001b[49m\u001b[43my2\u001b[49m\u001b[38;5;241;43m=\u001b[39;49m\u001b[43m[\u001b[49m\u001b[43mmeg3_step_removed\u001b[49m\u001b[43m]\u001b[49m\u001b[43m,\u001b[49m\u001b[43m \u001b[49m\u001b[43my_names1\u001b[49m\u001b[38;5;241;43m=\u001b[39;49m\u001b[43m[\u001b[49m\u001b[38;5;124;43m\"\u001b[39;49m\u001b[38;5;124;43mStep signal\u001b[39;49m\u001b[38;5;124;43m\"\u001b[39;49m\u001b[43m,\u001b[49m\u001b[43m \u001b[49m\u001b[38;5;124;43m\"\u001b[39;49m\u001b[38;5;124;43mde-stepped signal\u001b[39;49m\u001b[38;5;124;43m\"\u001b[39;49m\u001b[43m]\u001b[49m\u001b[43m,\u001b[49m\u001b[43m \u001b[49m\u001b[43my_names2\u001b[49m\u001b[38;5;241;43m=\u001b[39;49m\u001b[38;5;124;43m\"\u001b[39;49m\u001b[38;5;124;43mde-stepped signal\u001b[39;49m\u001b[38;5;124;43m\"\u001b[39;49m\u001b[43m,\u001b[49m\u001b[43m \u001b[49m\u001b[43mtitle1\u001b[49m\u001b[38;5;241;43m=\u001b[39;49m\u001b[38;5;124;43m\"\u001b[39;49m\u001b[38;5;124;43mSignal de de-step\u001b[39;49m\u001b[38;5;124;43m\"\u001b[39;49m\u001b[43m,\u001b[49m\u001b[43m \u001b[49m\u001b[43mtitle2\u001b[49m\u001b[38;5;241;43m=\u001b[39;49m\u001b[38;5;124;43m\"\u001b[39;49m\u001b[38;5;124;43mde-stepped signal\u001b[39;49m\u001b[38;5;124;43m\"\u001b[39;49m\u001b[43m,\u001b[49m\u001b[43m \u001b[49m\u001b[43msharey\u001b[49m\u001b[38;5;241;43m=\u001b[39;49m\u001b[38;5;28;43;01mFalse\u001b[39;49;00m\u001b[43m)\u001b[49m\n",
      "File \u001b[0;32m~/Documents/robust-retrending-rereferencing-outlier-detection-and-pinpointing-for-multichannel-data/utils.py:104\u001b[0m, in \u001b[0;36mplot_signals_side_by_side\u001b[0;34m(x, y1, y2, y_names1, y_names2, title1, title2, log_x, log_y, xlabel, ylabel, save, filename, sharey, alpha1, alpha2)\u001b[0m\n\u001b[1;32m    101\u001b[0m     plt\u001b[38;5;241m.\u001b[39msavefig(filename)\n\u001b[1;32m    103\u001b[0m \u001b[38;5;66;03m# Display the plot\u001b[39;00m\n\u001b[0;32m--> 104\u001b[0m \u001b[43mplt\u001b[49m\u001b[38;5;241;43m.\u001b[39;49m\u001b[43mshow\u001b[49m\u001b[43m(\u001b[49m\u001b[43m)\u001b[49m\n",
      "File \u001b[0;32m/usr/local/lib/python3.11/site-packages/matplotlib/pyplot.py:446\u001b[0m, in \u001b[0;36mshow\u001b[0;34m(*args, **kwargs)\u001b[0m\n\u001b[1;32m    402\u001b[0m \u001b[38;5;250m\u001b[39m\u001b[38;5;124;03m\"\"\"\u001b[39;00m\n\u001b[1;32m    403\u001b[0m \u001b[38;5;124;03mDisplay all open figures.\u001b[39;00m\n\u001b[1;32m    404\u001b[0m \n\u001b[0;32m   (...)\u001b[0m\n\u001b[1;32m    443\u001b[0m \u001b[38;5;124;03mexplicitly there.\u001b[39;00m\n\u001b[1;32m    444\u001b[0m \u001b[38;5;124;03m\"\"\"\u001b[39;00m\n\u001b[1;32m    445\u001b[0m _warn_if_gui_out_of_main_thread()\n\u001b[0;32m--> 446\u001b[0m \u001b[38;5;28;01mreturn\u001b[39;00m \u001b[43m_get_backend_mod\u001b[49m\u001b[43m(\u001b[49m\u001b[43m)\u001b[49m\u001b[38;5;241;43m.\u001b[39;49m\u001b[43mshow\u001b[49m\u001b[43m(\u001b[49m\u001b[38;5;241;43m*\u001b[39;49m\u001b[43margs\u001b[49m\u001b[43m,\u001b[49m\u001b[43m \u001b[49m\u001b[38;5;241;43m*\u001b[39;49m\u001b[38;5;241;43m*\u001b[39;49m\u001b[43mkwargs\u001b[49m\u001b[43m)\u001b[49m\n",
      "File \u001b[0;32m~/Library/Python/3.11/lib/python/site-packages/matplotlib_inline/backend_inline.py:90\u001b[0m, in \u001b[0;36mshow\u001b[0;34m(close, block)\u001b[0m\n\u001b[1;32m     88\u001b[0m \u001b[38;5;28;01mtry\u001b[39;00m:\n\u001b[1;32m     89\u001b[0m     \u001b[38;5;28;01mfor\u001b[39;00m figure_manager \u001b[38;5;129;01min\u001b[39;00m Gcf\u001b[38;5;241m.\u001b[39mget_all_fig_managers():\n\u001b[0;32m---> 90\u001b[0m         \u001b[43mdisplay\u001b[49m\u001b[43m(\u001b[49m\n\u001b[1;32m     91\u001b[0m \u001b[43m            \u001b[49m\u001b[43mfigure_manager\u001b[49m\u001b[38;5;241;43m.\u001b[39;49m\u001b[43mcanvas\u001b[49m\u001b[38;5;241;43m.\u001b[39;49m\u001b[43mfigure\u001b[49m\u001b[43m,\u001b[49m\n\u001b[1;32m     92\u001b[0m \u001b[43m            \u001b[49m\u001b[43mmetadata\u001b[49m\u001b[38;5;241;43m=\u001b[39;49m\u001b[43m_fetch_figure_metadata\u001b[49m\u001b[43m(\u001b[49m\u001b[43mfigure_manager\u001b[49m\u001b[38;5;241;43m.\u001b[39;49m\u001b[43mcanvas\u001b[49m\u001b[38;5;241;43m.\u001b[39;49m\u001b[43mfigure\u001b[49m\u001b[43m)\u001b[49m\n\u001b[1;32m     93\u001b[0m \u001b[43m        \u001b[49m\u001b[43m)\u001b[49m\n\u001b[1;32m     94\u001b[0m \u001b[38;5;28;01mfinally\u001b[39;00m:\n\u001b[1;32m     95\u001b[0m     show\u001b[38;5;241m.\u001b[39m_to_draw \u001b[38;5;241m=\u001b[39m []\n",
      "File \u001b[0;32m~/Library/Python/3.11/lib/python/site-packages/IPython/core/display_functions.py:298\u001b[0m, in \u001b[0;36mdisplay\u001b[0;34m(include, exclude, metadata, transient, display_id, raw, clear, *objs, **kwargs)\u001b[0m\n\u001b[1;32m    296\u001b[0m     publish_display_data(data\u001b[38;5;241m=\u001b[39mobj, metadata\u001b[38;5;241m=\u001b[39mmetadata, \u001b[38;5;241m*\u001b[39m\u001b[38;5;241m*\u001b[39mkwargs)\n\u001b[1;32m    297\u001b[0m \u001b[38;5;28;01melse\u001b[39;00m:\n\u001b[0;32m--> 298\u001b[0m     format_dict, md_dict \u001b[38;5;241m=\u001b[39m \u001b[38;5;28;43mformat\u001b[39;49m\u001b[43m(\u001b[49m\u001b[43mobj\u001b[49m\u001b[43m,\u001b[49m\u001b[43m \u001b[49m\u001b[43minclude\u001b[49m\u001b[38;5;241;43m=\u001b[39;49m\u001b[43minclude\u001b[49m\u001b[43m,\u001b[49m\u001b[43m \u001b[49m\u001b[43mexclude\u001b[49m\u001b[38;5;241;43m=\u001b[39;49m\u001b[43mexclude\u001b[49m\u001b[43m)\u001b[49m\n\u001b[1;32m    299\u001b[0m     \u001b[38;5;28;01mif\u001b[39;00m \u001b[38;5;129;01mnot\u001b[39;00m format_dict:\n\u001b[1;32m    300\u001b[0m         \u001b[38;5;66;03m# nothing to display (e.g. _ipython_display_ took over)\u001b[39;00m\n\u001b[1;32m    301\u001b[0m         \u001b[38;5;28;01mcontinue\u001b[39;00m\n",
      "File \u001b[0;32m~/Library/Python/3.11/lib/python/site-packages/IPython/core/formatters.py:179\u001b[0m, in \u001b[0;36mDisplayFormatter.format\u001b[0;34m(self, obj, include, exclude)\u001b[0m\n\u001b[1;32m    177\u001b[0m md \u001b[38;5;241m=\u001b[39m \u001b[38;5;28;01mNone\u001b[39;00m\n\u001b[1;32m    178\u001b[0m \u001b[38;5;28;01mtry\u001b[39;00m:\n\u001b[0;32m--> 179\u001b[0m     data \u001b[38;5;241m=\u001b[39m \u001b[43mformatter\u001b[49m\u001b[43m(\u001b[49m\u001b[43mobj\u001b[49m\u001b[43m)\u001b[49m\n\u001b[1;32m    180\u001b[0m \u001b[38;5;28;01mexcept\u001b[39;00m:\n\u001b[1;32m    181\u001b[0m     \u001b[38;5;66;03m# FIXME: log the exception\u001b[39;00m\n\u001b[1;32m    182\u001b[0m     \u001b[38;5;28;01mraise\u001b[39;00m\n",
      "File \u001b[0;32m~/Library/Python/3.11/lib/python/site-packages/decorator.py:232\u001b[0m, in \u001b[0;36mdecorate.<locals>.fun\u001b[0;34m(*args, **kw)\u001b[0m\n\u001b[1;32m    230\u001b[0m \u001b[38;5;28;01mif\u001b[39;00m \u001b[38;5;129;01mnot\u001b[39;00m kwsyntax:\n\u001b[1;32m    231\u001b[0m     args, kw \u001b[38;5;241m=\u001b[39m fix(args, kw, sig)\n\u001b[0;32m--> 232\u001b[0m \u001b[38;5;28;01mreturn\u001b[39;00m \u001b[43mcaller\u001b[49m\u001b[43m(\u001b[49m\u001b[43mfunc\u001b[49m\u001b[43m,\u001b[49m\u001b[43m \u001b[49m\u001b[38;5;241;43m*\u001b[39;49m\u001b[43m(\u001b[49m\u001b[43mextras\u001b[49m\u001b[43m \u001b[49m\u001b[38;5;241;43m+\u001b[39;49m\u001b[43m \u001b[49m\u001b[43margs\u001b[49m\u001b[43m)\u001b[49m\u001b[43m,\u001b[49m\u001b[43m \u001b[49m\u001b[38;5;241;43m*\u001b[39;49m\u001b[38;5;241;43m*\u001b[39;49m\u001b[43mkw\u001b[49m\u001b[43m)\u001b[49m\n",
      "File \u001b[0;32m~/Library/Python/3.11/lib/python/site-packages/IPython/core/formatters.py:223\u001b[0m, in \u001b[0;36mcatch_format_error\u001b[0;34m(method, self, *args, **kwargs)\u001b[0m\n\u001b[1;32m    221\u001b[0m \u001b[38;5;250m\u001b[39m\u001b[38;5;124;03m\"\"\"show traceback on failed format call\"\"\"\u001b[39;00m\n\u001b[1;32m    222\u001b[0m \u001b[38;5;28;01mtry\u001b[39;00m:\n\u001b[0;32m--> 223\u001b[0m     r \u001b[38;5;241m=\u001b[39m \u001b[43mmethod\u001b[49m\u001b[43m(\u001b[49m\u001b[38;5;28;43mself\u001b[39;49m\u001b[43m,\u001b[49m\u001b[43m \u001b[49m\u001b[38;5;241;43m*\u001b[39;49m\u001b[43margs\u001b[49m\u001b[43m,\u001b[49m\u001b[43m \u001b[49m\u001b[38;5;241;43m*\u001b[39;49m\u001b[38;5;241;43m*\u001b[39;49m\u001b[43mkwargs\u001b[49m\u001b[43m)\u001b[49m\n\u001b[1;32m    224\u001b[0m \u001b[38;5;28;01mexcept\u001b[39;00m \u001b[38;5;167;01mNotImplementedError\u001b[39;00m:\n\u001b[1;32m    225\u001b[0m     \u001b[38;5;66;03m# don't warn on NotImplementedErrors\u001b[39;00m\n\u001b[1;32m    226\u001b[0m     \u001b[38;5;28;01mreturn\u001b[39;00m \u001b[38;5;28mself\u001b[39m\u001b[38;5;241m.\u001b[39m_check_return(\u001b[38;5;28;01mNone\u001b[39;00m, args[\u001b[38;5;241m0\u001b[39m])\n",
      "File \u001b[0;32m~/Library/Python/3.11/lib/python/site-packages/IPython/core/formatters.py:340\u001b[0m, in \u001b[0;36mBaseFormatter.__call__\u001b[0;34m(self, obj)\u001b[0m\n\u001b[1;32m    338\u001b[0m     \u001b[38;5;28;01mpass\u001b[39;00m\n\u001b[1;32m    339\u001b[0m \u001b[38;5;28;01melse\u001b[39;00m:\n\u001b[0;32m--> 340\u001b[0m     \u001b[38;5;28;01mreturn\u001b[39;00m \u001b[43mprinter\u001b[49m\u001b[43m(\u001b[49m\u001b[43mobj\u001b[49m\u001b[43m)\u001b[49m\n\u001b[1;32m    341\u001b[0m \u001b[38;5;66;03m# Finally look for special method names\u001b[39;00m\n\u001b[1;32m    342\u001b[0m method \u001b[38;5;241m=\u001b[39m get_real_method(obj, \u001b[38;5;28mself\u001b[39m\u001b[38;5;241m.\u001b[39mprint_method)\n",
      "File \u001b[0;32m~/Library/Python/3.11/lib/python/site-packages/IPython/core/pylabtools.py:152\u001b[0m, in \u001b[0;36mprint_figure\u001b[0;34m(fig, fmt, bbox_inches, base64, **kwargs)\u001b[0m\n\u001b[1;32m    149\u001b[0m     \u001b[38;5;28;01mfrom\u001b[39;00m \u001b[38;5;21;01mmatplotlib\u001b[39;00m\u001b[38;5;21;01m.\u001b[39;00m\u001b[38;5;21;01mbackend_bases\u001b[39;00m \u001b[38;5;28;01mimport\u001b[39;00m FigureCanvasBase\n\u001b[1;32m    150\u001b[0m     FigureCanvasBase(fig)\n\u001b[0;32m--> 152\u001b[0m \u001b[43mfig\u001b[49m\u001b[38;5;241;43m.\u001b[39;49m\u001b[43mcanvas\u001b[49m\u001b[38;5;241;43m.\u001b[39;49m\u001b[43mprint_figure\u001b[49m\u001b[43m(\u001b[49m\u001b[43mbytes_io\u001b[49m\u001b[43m,\u001b[49m\u001b[43m \u001b[49m\u001b[38;5;241;43m*\u001b[39;49m\u001b[38;5;241;43m*\u001b[39;49m\u001b[43mkw\u001b[49m\u001b[43m)\u001b[49m\n\u001b[1;32m    153\u001b[0m data \u001b[38;5;241m=\u001b[39m bytes_io\u001b[38;5;241m.\u001b[39mgetvalue()\n\u001b[1;32m    154\u001b[0m \u001b[38;5;28;01mif\u001b[39;00m fmt \u001b[38;5;241m==\u001b[39m \u001b[38;5;124m'\u001b[39m\u001b[38;5;124msvg\u001b[39m\u001b[38;5;124m'\u001b[39m:\n",
      "File \u001b[0;32m/usr/local/lib/python3.11/site-packages/matplotlib/backend_bases.py:2346\u001b[0m, in \u001b[0;36mFigureCanvasBase.print_figure\u001b[0;34m(self, filename, dpi, facecolor, edgecolor, orientation, format, bbox_inches, pad_inches, bbox_extra_artists, backend, **kwargs)\u001b[0m\n\u001b[1;32m   2344\u001b[0m \u001b[38;5;28;01mif\u001b[39;00m bbox_inches:\n\u001b[1;32m   2345\u001b[0m     \u001b[38;5;28;01mif\u001b[39;00m bbox_inches \u001b[38;5;241m==\u001b[39m \u001b[38;5;124m\"\u001b[39m\u001b[38;5;124mtight\u001b[39m\u001b[38;5;124m\"\u001b[39m:\n\u001b[0;32m-> 2346\u001b[0m         bbox_inches \u001b[38;5;241m=\u001b[39m \u001b[38;5;28;43mself\u001b[39;49m\u001b[38;5;241;43m.\u001b[39;49m\u001b[43mfigure\u001b[49m\u001b[38;5;241;43m.\u001b[39;49m\u001b[43mget_tightbbox\u001b[49m\u001b[43m(\u001b[49m\n\u001b[1;32m   2347\u001b[0m \u001b[43m            \u001b[49m\u001b[43mrenderer\u001b[49m\u001b[43m,\u001b[49m\u001b[43m \u001b[49m\u001b[43mbbox_extra_artists\u001b[49m\u001b[38;5;241;43m=\u001b[39;49m\u001b[43mbbox_extra_artists\u001b[49m\u001b[43m)\u001b[49m\n\u001b[1;32m   2348\u001b[0m         \u001b[38;5;28;01mif\u001b[39;00m pad_inches \u001b[38;5;129;01mis\u001b[39;00m \u001b[38;5;28;01mNone\u001b[39;00m:\n\u001b[1;32m   2349\u001b[0m             pad_inches \u001b[38;5;241m=\u001b[39m rcParams[\u001b[38;5;124m'\u001b[39m\u001b[38;5;124msavefig.pad_inches\u001b[39m\u001b[38;5;124m'\u001b[39m]\n",
      "File \u001b[0;32m/usr/local/lib/python3.11/site-packages/matplotlib/figure.py:1753\u001b[0m, in \u001b[0;36mFigureBase.get_tightbbox\u001b[0;34m(self, renderer, bbox_extra_artists)\u001b[0m\n\u001b[1;32m   1749\u001b[0m \u001b[38;5;28;01mif\u001b[39;00m ax\u001b[38;5;241m.\u001b[39mget_visible():\n\u001b[1;32m   1750\u001b[0m     \u001b[38;5;66;03m# some axes don't take the bbox_extra_artists kwarg so we\u001b[39;00m\n\u001b[1;32m   1751\u001b[0m     \u001b[38;5;66;03m# need this conditional....\u001b[39;00m\n\u001b[1;32m   1752\u001b[0m     \u001b[38;5;28;01mtry\u001b[39;00m:\n\u001b[0;32m-> 1753\u001b[0m         bbox \u001b[38;5;241m=\u001b[39m \u001b[43max\u001b[49m\u001b[38;5;241;43m.\u001b[39;49m\u001b[43mget_tightbbox\u001b[49m\u001b[43m(\u001b[49m\n\u001b[1;32m   1754\u001b[0m \u001b[43m            \u001b[49m\u001b[43mrenderer\u001b[49m\u001b[43m,\u001b[49m\u001b[43m \u001b[49m\u001b[43mbbox_extra_artists\u001b[49m\u001b[38;5;241;43m=\u001b[39;49m\u001b[43mbbox_extra_artists\u001b[49m\u001b[43m)\u001b[49m\n\u001b[1;32m   1755\u001b[0m     \u001b[38;5;28;01mexcept\u001b[39;00m \u001b[38;5;167;01mTypeError\u001b[39;00m:\n\u001b[1;32m   1756\u001b[0m         bbox \u001b[38;5;241m=\u001b[39m ax\u001b[38;5;241m.\u001b[39mget_tightbbox(renderer)\n",
      "File \u001b[0;32m/usr/local/lib/python3.11/site-packages/matplotlib/axes/_base.py:4385\u001b[0m, in \u001b[0;36m_AxesBase.get_tightbbox\u001b[0;34m(self, renderer, call_axes_locator, bbox_extra_artists, for_layout_only)\u001b[0m\n\u001b[1;32m   4383\u001b[0m \u001b[38;5;28;01mfor\u001b[39;00m axis \u001b[38;5;129;01min\u001b[39;00m \u001b[38;5;28mself\u001b[39m\u001b[38;5;241m.\u001b[39m_axis_map\u001b[38;5;241m.\u001b[39mvalues():\n\u001b[1;32m   4384\u001b[0m     \u001b[38;5;28;01mif\u001b[39;00m \u001b[38;5;28mself\u001b[39m\u001b[38;5;241m.\u001b[39maxison \u001b[38;5;129;01mand\u001b[39;00m axis\u001b[38;5;241m.\u001b[39mget_visible():\n\u001b[0;32m-> 4385\u001b[0m         ba \u001b[38;5;241m=\u001b[39m \u001b[43mmartist\u001b[49m\u001b[38;5;241;43m.\u001b[39;49m\u001b[43m_get_tightbbox_for_layout_only\u001b[49m\u001b[43m(\u001b[49m\u001b[43maxis\u001b[49m\u001b[43m,\u001b[49m\u001b[43m \u001b[49m\u001b[43mrenderer\u001b[49m\u001b[43m)\u001b[49m\n\u001b[1;32m   4386\u001b[0m         \u001b[38;5;28;01mif\u001b[39;00m ba:\n\u001b[1;32m   4387\u001b[0m             bb\u001b[38;5;241m.\u001b[39mappend(ba)\n",
      "File \u001b[0;32m/usr/local/lib/python3.11/site-packages/matplotlib/artist.py:1415\u001b[0m, in \u001b[0;36m_get_tightbbox_for_layout_only\u001b[0;34m(obj, *args, **kwargs)\u001b[0m\n\u001b[1;32m   1409\u001b[0m \u001b[38;5;250m\u001b[39m\u001b[38;5;124;03m\"\"\"\u001b[39;00m\n\u001b[1;32m   1410\u001b[0m \u001b[38;5;124;03mMatplotlib's `.Axes.get_tightbbox` and `.Axis.get_tightbbox` support a\u001b[39;00m\n\u001b[1;32m   1411\u001b[0m \u001b[38;5;124;03m*for_layout_only* kwarg; this helper tries to use the kwarg but skips it\u001b[39;00m\n\u001b[1;32m   1412\u001b[0m \u001b[38;5;124;03mwhen encountering third-party subclasses that do not support it.\u001b[39;00m\n\u001b[1;32m   1413\u001b[0m \u001b[38;5;124;03m\"\"\"\u001b[39;00m\n\u001b[1;32m   1414\u001b[0m \u001b[38;5;28;01mtry\u001b[39;00m:\n\u001b[0;32m-> 1415\u001b[0m     \u001b[38;5;28;01mreturn\u001b[39;00m \u001b[43mobj\u001b[49m\u001b[38;5;241;43m.\u001b[39;49m\u001b[43mget_tightbbox\u001b[49m\u001b[43m(\u001b[49m\u001b[38;5;241;43m*\u001b[39;49m\u001b[43margs\u001b[49m\u001b[43m,\u001b[49m\u001b[43m \u001b[49m\u001b[38;5;241;43m*\u001b[39;49m\u001b[38;5;241;43m*\u001b[39;49m\u001b[43m{\u001b[49m\u001b[38;5;241;43m*\u001b[39;49m\u001b[38;5;241;43m*\u001b[39;49m\u001b[43mkwargs\u001b[49m\u001b[43m,\u001b[49m\u001b[43m \u001b[49m\u001b[38;5;124;43m\"\u001b[39;49m\u001b[38;5;124;43mfor_layout_only\u001b[39;49m\u001b[38;5;124;43m\"\u001b[39;49m\u001b[43m:\u001b[49m\u001b[43m \u001b[49m\u001b[38;5;28;43;01mTrue\u001b[39;49;00m\u001b[43m}\u001b[49m\u001b[43m)\u001b[49m\n\u001b[1;32m   1416\u001b[0m \u001b[38;5;28;01mexcept\u001b[39;00m \u001b[38;5;167;01mTypeError\u001b[39;00m:\n\u001b[1;32m   1417\u001b[0m     \u001b[38;5;28;01mreturn\u001b[39;00m obj\u001b[38;5;241m.\u001b[39mget_tightbbox(\u001b[38;5;241m*\u001b[39margs, \u001b[38;5;241m*\u001b[39m\u001b[38;5;241m*\u001b[39mkwargs)\n",
      "File \u001b[0;32m/usr/local/lib/python3.11/site-packages/matplotlib/axis.py:1325\u001b[0m, in \u001b[0;36mAxis.get_tightbbox\u001b[0;34m(self, renderer, for_layout_only)\u001b[0m\n\u001b[1;32m   1322\u001b[0m     renderer \u001b[38;5;241m=\u001b[39m \u001b[38;5;28mself\u001b[39m\u001b[38;5;241m.\u001b[39mfigure\u001b[38;5;241m.\u001b[39m_get_renderer()\n\u001b[1;32m   1323\u001b[0m ticks_to_draw \u001b[38;5;241m=\u001b[39m \u001b[38;5;28mself\u001b[39m\u001b[38;5;241m.\u001b[39m_update_ticks()\n\u001b[0;32m-> 1325\u001b[0m \u001b[38;5;28;43mself\u001b[39;49m\u001b[38;5;241;43m.\u001b[39;49m\u001b[43m_update_label_position\u001b[49m\u001b[43m(\u001b[49m\u001b[43mrenderer\u001b[49m\u001b[43m)\u001b[49m\n\u001b[1;32m   1327\u001b[0m \u001b[38;5;66;03m# go back to just this axis's tick labels\u001b[39;00m\n\u001b[1;32m   1328\u001b[0m tlb1, tlb2 \u001b[38;5;241m=\u001b[39m \u001b[38;5;28mself\u001b[39m\u001b[38;5;241m.\u001b[39m_get_ticklabel_bboxes(ticks_to_draw, renderer)\n",
      "File \u001b[0;32m/usr/local/lib/python3.11/site-packages/matplotlib/axis.py:2570\u001b[0m, in \u001b[0;36mYAxis._update_label_position\u001b[0;34m(self, renderer)\u001b[0m\n\u001b[1;32m   2568\u001b[0m \u001b[38;5;28;01mtry\u001b[39;00m:\n\u001b[1;32m   2569\u001b[0m     spine \u001b[38;5;241m=\u001b[39m \u001b[38;5;28mself\u001b[39m\u001b[38;5;241m.\u001b[39maxes\u001b[38;5;241m.\u001b[39mspines[\u001b[38;5;124m'\u001b[39m\u001b[38;5;124mleft\u001b[39m\u001b[38;5;124m'\u001b[39m]\n\u001b[0;32m-> 2570\u001b[0m     spinebbox \u001b[38;5;241m=\u001b[39m \u001b[43mspine\u001b[49m\u001b[38;5;241;43m.\u001b[39;49m\u001b[43mget_window_extent\u001b[49m\u001b[43m(\u001b[49m\u001b[43m)\u001b[49m\n\u001b[1;32m   2571\u001b[0m \u001b[38;5;28;01mexcept\u001b[39;00m \u001b[38;5;167;01mKeyError\u001b[39;00m:\n\u001b[1;32m   2572\u001b[0m     \u001b[38;5;66;03m# use Axes if spine doesn't exist\u001b[39;00m\n\u001b[1;32m   2573\u001b[0m     spinebbox \u001b[38;5;241m=\u001b[39m \u001b[38;5;28mself\u001b[39m\u001b[38;5;241m.\u001b[39maxes\u001b[38;5;241m.\u001b[39mbbox\n",
      "File \u001b[0;32m/usr/local/lib/python3.11/site-packages/matplotlib/spines.py:158\u001b[0m, in \u001b[0;36mSpine.get_window_extent\u001b[0;34m(self, renderer)\u001b[0m\n\u001b[1;32m    156\u001b[0m     \u001b[38;5;28;01mreturn\u001b[39;00m bb\n\u001b[1;32m    157\u001b[0m bboxes \u001b[38;5;241m=\u001b[39m [bb]\n\u001b[0;32m--> 158\u001b[0m drawn_ticks \u001b[38;5;241m=\u001b[39m \u001b[38;5;28;43mself\u001b[39;49m\u001b[38;5;241;43m.\u001b[39;49m\u001b[43maxis\u001b[49m\u001b[38;5;241;43m.\u001b[39;49m\u001b[43m_update_ticks\u001b[49m\u001b[43m(\u001b[49m\u001b[43m)\u001b[49m\n\u001b[1;32m    160\u001b[0m major_tick \u001b[38;5;241m=\u001b[39m \u001b[38;5;28mnext\u001b[39m(\u001b[38;5;28miter\u001b[39m({\u001b[38;5;241m*\u001b[39mdrawn_ticks} \u001b[38;5;241m&\u001b[39m {\u001b[38;5;241m*\u001b[39m\u001b[38;5;28mself\u001b[39m\u001b[38;5;241m.\u001b[39maxis\u001b[38;5;241m.\u001b[39mmajorTicks}), \u001b[38;5;28;01mNone\u001b[39;00m)\n\u001b[1;32m    161\u001b[0m minor_tick \u001b[38;5;241m=\u001b[39m \u001b[38;5;28mnext\u001b[39m(\u001b[38;5;28miter\u001b[39m({\u001b[38;5;241m*\u001b[39mdrawn_ticks} \u001b[38;5;241m&\u001b[39m {\u001b[38;5;241m*\u001b[39m\u001b[38;5;28mself\u001b[39m\u001b[38;5;241m.\u001b[39maxis\u001b[38;5;241m.\u001b[39mminorTicks}), \u001b[38;5;28;01mNone\u001b[39;00m)\n",
      "File \u001b[0;32m/usr/local/lib/python3.11/site-packages/matplotlib/axis.py:1265\u001b[0m, in \u001b[0;36mAxis._update_ticks\u001b[0;34m(self)\u001b[0m\n\u001b[1;32m   1263\u001b[0m major_labels \u001b[38;5;241m=\u001b[39m \u001b[38;5;28mself\u001b[39m\u001b[38;5;241m.\u001b[39mmajor\u001b[38;5;241m.\u001b[39mformatter\u001b[38;5;241m.\u001b[39mformat_ticks(major_locs)\n\u001b[1;32m   1264\u001b[0m major_ticks \u001b[38;5;241m=\u001b[39m \u001b[38;5;28mself\u001b[39m\u001b[38;5;241m.\u001b[39mget_major_ticks(\u001b[38;5;28mlen\u001b[39m(major_locs))\n\u001b[0;32m-> 1265\u001b[0m \u001b[38;5;28;43mself\u001b[39;49m\u001b[38;5;241;43m.\u001b[39;49m\u001b[43mmajor\u001b[49m\u001b[38;5;241;43m.\u001b[39;49m\u001b[43mformatter\u001b[49m\u001b[38;5;241;43m.\u001b[39;49m\u001b[43mset_locs\u001b[49m\u001b[43m(\u001b[49m\u001b[43mmajor_locs\u001b[49m\u001b[43m)\u001b[49m\n\u001b[1;32m   1266\u001b[0m \u001b[38;5;28;01mfor\u001b[39;00m tick, loc, label \u001b[38;5;129;01min\u001b[39;00m \u001b[38;5;28mzip\u001b[39m(major_ticks, major_locs, major_labels):\n\u001b[1;32m   1267\u001b[0m     tick\u001b[38;5;241m.\u001b[39mupdate_position(loc)\n",
      "File \u001b[0;32m/usr/local/lib/python3.11/site-packages/matplotlib/ticker.py:702\u001b[0m, in \u001b[0;36mScalarFormatter.set_locs\u001b[0;34m(self, locs)\u001b[0m\n\u001b[1;32m    700\u001b[0m \u001b[38;5;28;01mif\u001b[39;00m \u001b[38;5;28mself\u001b[39m\u001b[38;5;241m.\u001b[39m_useOffset:\n\u001b[1;32m    701\u001b[0m     \u001b[38;5;28mself\u001b[39m\u001b[38;5;241m.\u001b[39m_compute_offset()\n\u001b[0;32m--> 702\u001b[0m \u001b[38;5;28;43mself\u001b[39;49m\u001b[38;5;241;43m.\u001b[39;49m\u001b[43m_set_order_of_magnitude\u001b[49m\u001b[43m(\u001b[49m\u001b[43m)\u001b[49m\n\u001b[1;32m    703\u001b[0m \u001b[38;5;28mself\u001b[39m\u001b[38;5;241m.\u001b[39m_set_format()\n",
      "File \u001b[0;32m/usr/local/lib/python3.11/site-packages/matplotlib/ticker.py:770\u001b[0m, in \u001b[0;36mScalarFormatter._set_order_of_magnitude\u001b[0;34m(self)\u001b[0m\n\u001b[1;32m    768\u001b[0m         oom \u001b[38;5;241m=\u001b[39m \u001b[38;5;241m0\u001b[39m\n\u001b[1;32m    769\u001b[0m     \u001b[38;5;28;01melse\u001b[39;00m:\n\u001b[0;32m--> 770\u001b[0m         oom \u001b[38;5;241m=\u001b[39m math\u001b[38;5;241m.\u001b[39mfloor(math\u001b[38;5;241m.\u001b[39mlog10(val))\n\u001b[1;32m    771\u001b[0m \u001b[38;5;28;01mif\u001b[39;00m oom \u001b[38;5;241m<\u001b[39m\u001b[38;5;241m=\u001b[39m \u001b[38;5;28mself\u001b[39m\u001b[38;5;241m.\u001b[39m_powerlimits[\u001b[38;5;241m0\u001b[39m]:\n\u001b[1;32m    772\u001b[0m     \u001b[38;5;28mself\u001b[39m\u001b[38;5;241m.\u001b[39morderOfMagnitude \u001b[38;5;241m=\u001b[39m oom\n",
      "\u001b[0;31mKeyboardInterrupt\u001b[0m: "
     ]
    }
   ],
   "source": [
    "meg3_step_removed, stepList = step_removal(meg_data[:, [3]])\n",
    "utils.plot_signals_side_by_side(range(meg_data.shape[0]), y1=[meg_data[:, [3]], meg3_step_removed], y2=[meg3_step_removed], y_names1=[\"Step signal\", \"de-stepped signal\"], y_names2=\"de-stepped signal\", title1=\"Signal de de-step\", title2=\"de-stepped signal\", sharey=False)"
   ]
  },
  {
   "cell_type": "markdown",
   "metadata": {},
   "source": [
    "The step removal procedure can introduce some outliers due to small mistakes in the step detection. Let's use the outlier algorithm and inpainting algorithm to correct that "
   ]
  },
  {
   "cell_type": "code",
   "execution_count": null,
   "metadata": {},
   "outputs": [],
   "source": [
    "outliers_meg3_step_removed = outlier_detection(meg3_step_removed)\n",
    "meg3_step_removed_inpainted = inpaint(meg3_step_removed, outliers_meg3_step_removed)\n",
    "utils.plot_signals_side_by_side(range(meg3_step_removed.shape[0]), y1=[meg3_step_removed, meg3_step_removed_inpainted], y2=[meg3_step_removed_inpainted], y_names1=[\"Step Removed\", \"Step Removed + Inpainted\"], y_names2=[\"Step Removed + Inpainted\"], sharey=False)\n"
   ]
  },
  {
   "cell_type": "markdown",
   "metadata": {},
   "source": [
    "## 6. Ringing removal"
   ]
  },
  {
   "cell_type": "code",
   "execution_count": null,
   "metadata": {},
   "outputs": [],
   "source": [
    "def ringing_removal(x, step_list):\n",
    "    \"\"\"\n",
    "    Reduce ringing effect caused by the antialiasing filter response to steps\n",
    "\n",
    "    Paramters:\n",
    "    - x: (Nsamples, Nchannels) data matrix\n",
    "    - step_list: list of step indexes (can be found with step removal algorithm)\n",
    "\n",
    "    Return:\n",
    "    - new_x: cleaned data\n",
    "    \"\"\"\n",
    "    N = x.shape[1]\n",
    "    n_num, n_den = 8, 8\n",
    "    n_samples = 100\n",
    "\n",
    "    new_x = x.copy()\n",
    "    for n in range(N):\n",
    "        for step in step_list[n]:\n",
    "            ringing = x[step : step+n_samples, n]\n",
    "            if ringing.shape[0] < n_samples:\n",
    "                break\n",
    "            ringing = np.concatenate([ringing, np.zeros_like(ringing)])\n",
    "            b, a = stmcb(ringing, q=n_num, p=n_den, niter=10)\n",
    "\n",
    "            impulse = np.arange(n_samples) == 0\n",
    "            model = lfilter(b, a, impulse)\n",
    "            new_x[step : step+n_samples, n] -= model\n",
    "\n",
    "    return new_x\n",
    "\n",
    "\n",
    "[b, a] = butter(6, 0.2)\n",
    "x = np.arange(300) == 0\n",
    "x = lfilter(b, a, x) * 100\n",
    "x = np.roll(x, 50) + np.random.normal(size=300)\n",
    "x = x[:, None]\n",
    "t = np.linspace(0, 1, x.shape[0])\n",
    "\n",
    "new_x = ringing_removal(x, [[50]])\n",
    "utils.plot_signals(t, [x, new_x], y_names=[\"Original signal with ringing\", \"Cleaned signal\"])"
   ]
  },
  {
   "cell_type": "code",
   "execution_count": null,
   "metadata": {},
   "outputs": [],
   "source": [
    "# x_original = np.load('./data/eeg_raw.npy').T\n",
    "# x = x_original\n",
    "# SFREQ = 250\n",
    "# N = x.shape[1]\n",
    "# t = np.arange(x.shape[0]) / SFREQ\n",
    "\n",
    "# def plot(x, start=0, end=None):\n",
    "#     if end is None:\n",
    "#         end = x.shape[0]\n",
    "\n",
    "#     fig, axes = plt.subplots(x.shape[1], sharex=True, figsize=(12, 8))\n",
    "#     for n in range(x.shape[1]):\n",
    "#         ax = axes[n]\n",
    "#         ax.plot(x[start:end, n])\n",
    "#     fig.show()\n",
    "\n",
    "# plot(x)"
   ]
  },
  {
   "cell_type": "code",
   "execution_count": null,
   "metadata": {},
   "outputs": [],
   "source": [
    "# x, trend, _, _ = robust_detrend(x, 15, maxiter=100)\n",
    "# plot(trend)\n",
    "# plot(x)"
   ]
  },
  {
   "cell_type": "code",
   "execution_count": null,
   "metadata": {},
   "outputs": [],
   "source": [
    "# w = outlier_detection(x, thres=4, maxiter=20)\n",
    "# x = inpaint(x, w)\n",
    "# plot(x)\n",
    "# print(f\"Outliers per channels (%): {100 * np.sum(~w, axis=0) / t.shape[0]}\")"
   ]
  },
  {
   "cell_type": "code",
   "execution_count": null,
   "metadata": {},
   "outputs": [],
   "source": [
    "# x = robust_rereferencing(x, w)\n",
    "# plot(x)"
   ]
  },
  {
   "cell_type": "code",
   "execution_count": null,
   "metadata": {},
   "outputs": [],
   "source": [
    "# plot(x_original - x)"
   ]
  },
  {
   "cell_type": "markdown",
   "metadata": {},
   "source": [
    "# Reconstruction using dictionary learning"
   ]
  },
  {
   "cell_type": "code",
   "execution_count": null,
   "metadata": {},
   "outputs": [],
   "source": [
    "from alphacsc import learn_d_z\n",
    "try:\n",
    "    from alphacsc.utils import construct_X\n",
    "except:\n",
    "    from alphacsc.utils.convolution import construct_X"
   ]
  },
  {
   "cell_type": "code",
   "execution_count": null,
   "metadata": {},
   "outputs": [],
   "source": [
    "def plot_CDL(signal, Z, D, figsize=(15, 10)):\n",
    "    \"\"\"Plot the learned dictionary `D` and the associated sparse codes `Z`.\n",
    "\n",
    "    `signal` is an univariate signal of shape (n_samples,) or (n_samples, 1).\n",
    "    \"\"\"\n",
    "    (atom_length, n_atoms) = np.shape(D)\n",
    "    plt.figure(figsize=figsize)\n",
    "    plt.subplot(n_atoms + 1, 3, (2, 3))\n",
    "    plt.plot(signal)\n",
    "    for i in range(n_atoms):\n",
    "        plt.subplot(n_atoms + 1, 3, 3 * i + 4)\n",
    "        plt.plot(D[:, i])\n",
    "        plt.subplot(n_atoms + 1, 3, (3 * i + 5, 3 * i + 6))\n",
    "        plt.plot(Z[:, i])\n",
    "        plt.ylim((np.min(Z), np.max(Z)))\n",
    "\n",
    "def display_distance_matrix_as_table(\n",
    "    distance_matrix, labels=None, figsize=(8, 2)\n",
    "):\n",
    "    fig, ax = plt.subplots(figsize=figsize)\n",
    "    ax.axis(\"tight\")\n",
    "    ax.axis(\"off\")\n",
    "    norm = mpl.colors.Normalize()\n",
    "    cell_colours_hex = np.empty(shape=distance_matrix.shape, dtype=object)\n",
    "    cell_colours_rgba = plt.get_cmap(\"magma\")(norm(distance_matrix))\n",
    "\n",
    "    for i in range(distance_matrix.shape[0]):\n",
    "        for j in range(i + 1, distance_matrix.shape[0]):\n",
    "            cell_colours_hex[i, j] = rgb2hex(\n",
    "                cell_colours_rgba[i, j], keep_alpha=True\n",
    "            )\n",
    "            cell_colours_hex[j, i] = cell_colours_hex[i, j]\n",
    "\n",
    "    if labels is not None:\n",
    "        _ = ax.table(\n",
    "            cellText=distance_matrix,\n",
    "            colLabels=labels,\n",
    "            rowLabels=labels,\n",
    "            loc=\"center\",\n",
    "            cellColours=cell_colours_hex,\n",
    "        )\n",
    "    else:\n",
    "        _ = ax.table(\n",
    "            cellText=distance_matrix,\n",
    "            loc=\"center\",\n",
    "            cellColours=cell_colours_hex,\n",
    "        )\n",
    "\n",
    "    return ax\n",
    "\n",
    "def get_n_largest(\n",
    "    arr: np.ndarray, n_largest: int = 3\n",
    ") -> (np.ndarray, np.ndarray):\n",
    "    \"\"\"Return the n largest values and associated indexes of an array.\n",
    "\n",
    "    (In decreasing order of value.)\n",
    "    \"\"\"\n",
    "    indexes = np.argsort(arr)[-n_largest:][::-1]\n",
    "    if n_largest == 1:\n",
    "        indexes = np.array(indexes)\n",
    "    values = np.take(arr, indexes)\n",
    "    return values, indexes\n",
    "\n",
    "def fig_ax(figsize=(15, 5)):\n",
    "    return plt.subplots(figsize=figsize)"
   ]
  },
  {
   "cell_type": "code",
   "execution_count": null,
   "metadata": {},
   "outputs": [],
   "source": [
    "# Select a signal\n",
    "signal = meg_data[:, 3]\n",
    "print(signal.shape)\n",
    "signal = meg3_step_removed[:, 0]\n",
    "print(signal.shape)\n",
    "data = signal[np.newaxis, :]  # shape (1, n_samples)\n",
    "plt.plot(data.T)"
   ]
  },
  {
   "cell_type": "code",
   "execution_count": null,
   "metadata": {},
   "outputs": [],
   "source": [
    "# Parameters to change\n",
    "n_atoms = 10  # K\n",
    "atom_length = 2  # L\n",
    "penalty = 1e-30  # lambda"
   ]
  },
  {
   "cell_type": "code",
   "execution_count": null,
   "metadata": {},
   "outputs": [],
   "source": [
    "%%time\n",
    "# learning a dictionary and codes\n",
    "pobj, _, d_hat, z_hat, _ = learn_d_z(\n",
    "    X=data,\n",
    "    n_atoms=n_atoms,\n",
    "    n_times_atom=atom_length,\n",
    "    reg=penalty,\n",
    "    n_iter=30,\n",
    "    n_jobs=4,\n",
    "    verbose=1)"
   ]
  },
  {
   "cell_type": "code",
   "execution_count": null,
   "metadata": {},
   "outputs": [],
   "source": [
    "# plot the results\n",
    "plot_CDL(signal, z_hat.T.squeeze(), d_hat.T.squeeze())"
   ]
  },
  {
   "cell_type": "code",
   "execution_count": null,
   "metadata": {},
   "outputs": [],
   "source": [
    "epsilon = 1e-30\n",
    "for i in range(len(z_hat)):\n",
    "    print(f\"Atom {i}: {np.count_nonzero(z_hat[i, :] > epsilon)}\")"
   ]
  },
  {
   "cell_type": "markdown",
   "metadata": {},
   "source": [
    "## Extracting real MEG signals (DO NOT RUN)"
   ]
  },
  {
   "cell_type": "code",
   "execution_count": null,
   "metadata": {},
   "outputs": [],
   "source": [
    "import mne"
   ]
  },
  {
   "cell_type": "markdown",
   "metadata": {},
   "source": [
    "Download raw data\n",
    "MEG signals from [2]"
   ]
  },
  {
   "cell_type": "code",
   "execution_count": null,
   "metadata": {},
   "outputs": [],
   "source": [
    "# Caution, this is a big file \n",
    "# !wget https://figshare.com/ndownloader/files/6509115\n",
    "# !unzip phantom090715_BrainampDBS_20150709_07.ds.zip -d data/"
   ]
  },
  {
   "cell_type": "markdown",
   "metadata": {},
   "source": [
    "Import MEG data"
   ]
  },
  {
   "cell_type": "code",
   "execution_count": null,
   "metadata": {},
   "outputs": [],
   "source": [
    "file = \"data/phantom090715_BrainampDBS_20150709_07.ds\"\n",
    "raw = mne.io.read_raw_ctf(file, preload=True)"
   ]
  },
  {
   "cell_type": "markdown",
   "metadata": {},
   "source": [
    "Subsample data because we do not have infinite compute power"
   ]
  },
  {
   "cell_type": "code",
   "execution_count": null,
   "metadata": {},
   "outputs": [],
   "source": [
    "subsampling_factor = 256\n",
    "raw_resampled = raw.copy().pick_types(meg=True, eeg=False, eog=False).resample(sfreq=raw.info['sfreq'] / subsampling_factor)\n",
    "raw_resampled_16 = raw.copy().pick_types(meg=True, eeg=False, eog=False).resample(sfreq=raw.info['sfreq'] / 16)"
   ]
  },
  {
   "cell_type": "markdown",
   "metadata": {},
   "source": [
    "Get some info on the data"
   ]
  },
  {
   "cell_type": "code",
   "execution_count": null,
   "metadata": {},
   "outputs": [],
   "source": [
    "raw_resampled.info"
   ]
  },
  {
   "cell_type": "code",
   "execution_count": null,
   "metadata": {},
   "outputs": [],
   "source": [
    "raw_resampled_16.info"
   ]
  },
  {
   "cell_type": "markdown",
   "metadata": {},
   "source": [
    "Plot the raw data"
   ]
  },
  {
   "cell_type": "code",
   "execution_count": null,
   "metadata": {},
   "outputs": [],
   "source": [
    "raw_resampled.plot()\n"
   ]
  },
  {
   "cell_type": "code",
   "execution_count": null,
   "metadata": {},
   "outputs": [],
   "source": [
    "# Get data as a numpy array for easy use and extract signals we use \n",
    "data = raw_resampled.get_data()\n",
    "\n",
    "signals_we_keep = [3, 12, 15, 19, 22]\n",
    "used_data = data[signals_we_keep].T\n",
    "\n",
    "# Save data for our use\n",
    "np.save(\"data/MEG.npy\", used_data)\n",
    "\n",
    "plot(used_data)"
   ]
  },
  {
   "cell_type": "code",
   "execution_count": null,
   "metadata": {},
   "outputs": [],
   "source": [
    "# Get data as a numpy array for easy use and extract signals we use \n",
    "data_16 = raw_resampled_16.get_data()\n",
    "\n",
    "signals_we_keep = [3, 12, 15, 19, 22]\n",
    "used_data_16 = data_16[signals_we_keep].T[20000:]\n",
    "print(used_data_16.shape)\n",
    "\n",
    "\n",
    "# Save data for our use\n",
    "np.save(\"data/MEG_16.npy\", used_data_16)\n",
    "\n",
    "plot(used_data_16)"
   ]
  },
  {
   "cell_type": "markdown",
   "metadata": {},
   "source": [
    "[1] Alain de Cheveigné, Dorothée Arzounian,\n",
    "Robust detrending, rereferencing, outlier detection, and inpainting for multichannel data,\n",
    "NeuroImage,\n",
    "Volume 172,\n",
    "2018,\n",
    "Pages 903-912,\n",
    "ISSN 1053-8119,\n",
    "https://doi.org/10.1016/j.neuroimage.2018.01.035.\n",
    "(https://www.sciencedirect.com/science/article/pii/S1053811918300351)\n",
    "Abstract: Electroencephalography (EEG), magnetoencephalography (MEG) and related techniques are prone to glitches, slow drift, steps, etc., that contaminate the data and interfere with the analysis and interpretation. These artifacts are usually addressed in a preprocessing phase that attempts to remove them or minimize their impact. This paper offers a set of useful techniques for this purpose: robust detrending, robust rereferencing, outlier detection, data interpolation (inpainting), step removal, and filter ringing artifact removal. These techniques provide a less wasteful alternative to discarding corrupted trials or channels, and they are relatively immune to artifacts that disrupt alternative approaches such as filtering. Robust detrending allows slow drifts and common mode signals to be factored out while avoiding the deleterious effects of glitches. Robust rereferencing reduces the impact of artifacts on the reference. Inpainting allows corrupt data to be interpolated from intact parts based on the correlation structure estimated over the intact parts. Outlier detection allows the corrupt parts to be identified. Step removal fixes the high-amplitude flux jump artifacts that are common with some MEG systems. Ringing removal allows the ringing response of the antialiasing filter to glitches (steps, pulses) to be suppressed. The performance of the methods is illustrated and evaluated using synthetic data and data from real EEG and MEG systems. These methods, which are mainly automatic and require little tuning, can greatly improve the quality of the data.\n",
    "Keywords: EEG; MEG; LFP; ECoG; Artifact; ICA; CSP; DSS; SNS; CCA; Sensor noise; Detrending; Weighted regression; Robust statistics\n",
    "\n",
    "[2] Vladimir Litvak. \n",
    "2016. \n",
    "Magnetoencephalography (MEG) recordings from a phantom with Deep Brain Stimulation (DBS) artefacts. \n",
    "DOI:https://doi.org/10.6084/m9.figshare.4042911.v3\n"
   ]
  }
 ],
 "metadata": {
  "kernelspec": {
   "display_name": "Python 3",
   "language": "python",
   "name": "python3"
  },
  "language_info": {
   "codemirror_mode": {
    "name": "ipython",
    "version": 3
   },
   "file_extension": ".py",
   "mimetype": "text/x-python",
   "name": "python",
   "nbconvert_exporter": "python",
   "pygments_lexer": "ipython3",
   "version": "3.10.12"
  }
 },
 "nbformat": 4,
 "nbformat_minor": 2
}
